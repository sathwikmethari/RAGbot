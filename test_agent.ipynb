{
 "cells": [
  {
   "cell_type": "code",
   "execution_count": null,
   "id": "f2af60e2",
   "metadata": {},
   "outputs": [],
   "source": [
    "import os\n",
    "import streamlit as st\n",
    "from utils import *\n",
    "from few_shots.few_shots_v2 import few_shots_list_of_dict\n",
    "from langchain_cohere import ChatCohere\n",
    "from langchain.prompts import FewShotPromptTemplate, PromptTemplate\n",
    "from langchain.prompts.example_selector import SemanticSimilarityExampleSelector\n",
    "from langchain_experimental.sql import SQLDatabaseChain\n",
    "from langchain_community.utilities.sql_database import SQLDatabase\n",
    "from langchain.memory import ConversationBufferWindowMemory\n",
    "from langchain_community.vectorstores import Chroma \n",
    "from langchain_huggingface import HuggingFaceEmbeddings\n",
    "from langchain.chains.sql_database.prompt import PROMPT_SUFFIX\n",
    "from types import MethodType"
   ]
  },
  {
   "cell_type": "code",
   "execution_count": null,
   "id": "afbb4e4e",
   "metadata": {},
   "outputs": [],
   "source": [
    "# Load environment variables\n",
    "from dotenv import load_dotenv\n",
    "load_dotenv()\n",
    "\n",
    "db_user = os.getenv(\"USER\")\n",
    "db_password = os.getenv(\"PASSWORD\")\n",
    "db_host = os.getenv(\"HOST\")\n",
    "db_name = os.getenv(\"NAME\")"
   ]
  },
  {
   "cell_type": "code",
   "execution_count": null,
   "id": "4fd581c3",
   "metadata": {},
   "outputs": [],
   "source": [
    "os.environ[\"COHERE_API_KEY\"]=os.getenv(\"COHERE_API_KEY\")        # Set the cohere api key\n",
    "os.environ[\"LANGCHAIN_TRACING_V2\"]=\"true\"                       # Enable tracing\n",
    "os.environ[\"LANGCHAIN_PROJECT\"]=os.getenv(\"LANGCHAIN_PROJECT\")  # Set the project name\n"
   ]
  }
 ],
 "metadata": {
  "language_info": {
   "name": "python"
  }
 },
 "nbformat": 4,
 "nbformat_minor": 5
}
