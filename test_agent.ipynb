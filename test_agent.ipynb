{
 "cells": [
  {
   "cell_type": "code",
   "execution_count": 1,
   "id": "f2af60e2",
   "metadata": {},
   "outputs": [],
   "source": [
    "import os\n",
    "import streamlit as st\n",
    "from utils import *\n",
    "from few_shots.few_shots_v2 import few_shots_list_of_dict\n",
    "from langchain_cohere import ChatCohere\n",
    "from langchain.prompts import FewShotPromptTemplate, PromptTemplate\n",
    "from langchain.prompts.example_selector import SemanticSimilarityExampleSelector\n",
    "from langchain_experimental.sql import SQLDatabaseChain\n",
    "from langchain_community.utilities.sql_database import SQLDatabase\n",
    "from langchain.memory import ConversationBufferWindowMemory\n",
    "from langchain_community.vectorstores import Chroma \n",
    "from langchain_huggingface import HuggingFaceEmbeddings\n",
    "from langchain.chains.sql_database.prompt import PROMPT_SUFFIX\n",
    "\n",
    "import warnings\n",
    "warnings.filterwarnings(\"ignore\")\n"
   ]
  },
  {
   "cell_type": "code",
   "execution_count": 2,
   "id": "479a9052",
   "metadata": {},
   "outputs": [],
   "source": [
    "Questions=[f\"Question: {example['Question']}\" for example in few_shots_list_of_dict]"
   ]
  },
  {
   "cell_type": "code",
   "execution_count": 3,
   "id": "a64537af",
   "metadata": {},
   "outputs": [
    {
     "data": {
      "text/plain": [
       "'Question: How many t-shirts do we have LEFT for Nike in XS size AND white color?'"
      ]
     },
     "execution_count": 3,
     "metadata": {},
     "output_type": "execute_result"
    }
   ],
   "source": [
    "Questions[0]"
   ]
  },
  {
   "cell_type": "code",
   "execution_count": 4,
   "id": "1951358e",
   "metadata": {},
   "outputs": [],
   "source": [
    "def removes_spaces(s) -> str:\n",
    "    s=s.split(\"\\n\")\n",
    "    #print(s)\n",
    "    return \" \".join([ele.strip() for ele in s if ele])\n",
    "\n",
    "SQLQuery=[example['SQLQuery'] for example in few_shots_list_of_dict]"
   ]
  },
  {
   "cell_type": "code",
   "execution_count": 5,
   "id": "de69a28c",
   "metadata": {},
   "outputs": [
    {
     "data": {
      "text/plain": [
       "\"Question: SELECT SUM(a.total_amount * ((100-COALESCE(discounts.discount_percent,0))/100)) as total_revenue FROM(select SUM(price*stock) as total_amount, tshirt_id FROM tshirt_inventory WHERE brand='LEVI' GROUP BY tshirt_id) a LEFT join discounts ON a.tshirt_id=discounts.tshirt_id\""
      ]
     },
     "execution_count": 5,
     "metadata": {},
     "output_type": "execute_result"
    }
   ],
   "source": [
    "SQLQuery=[f\"Question: {query}\" for query in map(removes_spaces,SQLQuery)]\n",
    "SQLQuery[2]"
   ]
  },
  {
   "cell_type": "code",
   "execution_count": 6,
   "id": "134bf2e9",
   "metadata": {},
   "outputs": [],
   "source": [
    "from typing import *\n",
    "from typing_extensions import TypedDict\n",
    "from langgraph.graph import StateGraph, END, START\n",
    "from langgraph.graph.message import add_messages"
   ]
  },
  {
   "cell_type": "code",
   "execution_count": 7,
   "id": "afbb4e4e",
   "metadata": {},
   "outputs": [],
   "source": [
    "# Load environment variables\n",
    "from dotenv import load_dotenv\n",
    "load_dotenv()\n",
    "\n",
    "db_user = os.getenv(\"USER\")\n",
    "db_password = os.getenv(\"PASSWORD\")\n",
    "db_host = os.getenv(\"HOST\")\n",
    "db_name = os.getenv(\"NAME\")"
   ]
  },
  {
   "cell_type": "code",
   "execution_count": 4,
   "id": "4fd581c3",
   "metadata": {},
   "outputs": [],
   "source": [
    "os.environ[\"COHERE_API_KEY\"]=os.getenv(\"COHERE_API_KEY\")        # Set the cohere api key\n",
    "os.environ[\"LANGCHAIN_TRACING_V2\"]=\"true\"                       # Enable tracing\n",
    "os.environ[\"LANGCHAIN_PROJECT\"]=os.getenv(\"LANGCHAIN_PROJECT\")  # Set the project name"
   ]
  },
  {
   "cell_type": "code",
   "execution_count": 86,
   "id": "664af100",
   "metadata": {},
   "outputs": [
    {
     "name": "stdout",
     "output_type": "stream",
     "text": [
      "Successfully connected to the database!\n"
     ]
    }
   ],
   "source": [
    "try:\n",
    "    db = SQLDatabase.from_uri(f\"mysql+pymysql://{db_user}:{db_password}@{db_host}/{db_name}\",sample_rows_in_table_info=5)\n",
    "    print(\"Successfully connected to the database!\")\n",
    "except:\n",
    "    print(\"Failed to connect to the database. Please check your credentials.\")"
   ]
  },
  {
   "cell_type": "code",
   "execution_count": 6,
   "id": "50dd29f3",
   "metadata": {},
   "outputs": [],
   "source": [
    "embeddings = HuggingFaceEmbeddings(model_name=\"all-mpnet-base-v2\", model_kwargs={'device': 'cuda'})\n",
    "to_vectorize = [\" \".join(example.values()) for example in few_shots_list_of_dict]\n",
    "vectorstore = Chroma.from_texts(\n",
    "    to_vectorize, \n",
    "    embeddings, \n",
    "    metadatas=few_shots_list_of_dict, \n",
    "    ids=[str(i) for i in range(len(to_vectorize))],  # Ensure unique IDs\n",
    "    persist_directory=\"./chromadb\"\n",
    ")\n",
    "# Example selector using semantic similarity\n",
    "example_selector = SemanticSimilarityExampleSelector(vectorstore=vectorstore, k=3)"
   ]
  },
  {
   "cell_type": "code",
   "execution_count": 7,
   "id": "d1c75865",
   "metadata": {},
   "outputs": [],
   "source": [
    "mysql_prompt = \"\"\"You are a MySQL Expert and T-shirt inventory manager. Given an input question, first create a syntactically correct MySQL query to run. \n",
    "Query for at most 5 results using the LIMIT clause, unless the user specifies. You must query only the columns that are needed to answer the question.\n",
    "Pay attention to use only the column names you see in the tables, Only query for columns that exist in the table. Also, pay close attention to which column is in which table.\n",
    "\n",
    "# Use the below format:\n",
    "\n",
    "# Question: Question here\n",
    "# SQLQuery: Query to run with no pre-amble\n",
    "\n",
    "\"\"\"\n",
    "\n",
    "example_prompt = PromptTemplate(\n",
    "    input_variables=[\"Question\", \"SQLQuery\"],\n",
    "    template=\"\\nQuestion: {Question}\\nSQLQuery: {SQLQuery}\\n\",\n",
    ")\n",
    "\n",
    "few_shot_prompt = FewShotPromptTemplate(\n",
    "    example_selector=example_selector,  # assumed defined earlier\n",
    "    example_prompt=example_prompt,\n",
    "    prefix=mysql_prompt,\n",
    "    suffix=PROMPT_SUFFIX,  # assumed defined earlier\n",
    "    input_variables=[\"Question\", \"SQLQuery\"],\n",
    ")\n",
    "\n",
    "#memory = ConversationBufferWindowMemory(k=10, return_messages=True)\n",
    "\n",
    "\n",
    "llm = ChatCohere(model=\"command-a-03-2025\")  # your model\n",
    "\n",
    "chatbot = SQLDatabaseChain.from_llm(\n",
    "    llm=llm,\n",
    "    db=db,\n",
    "    #memory=memory,\n",
    "    prompt=few_shot_prompt,\n",
    "    return_sql=True\n",
    ")"
   ]
  },
  {
   "cell_type": "code",
   "execution_count": 8,
   "id": "60cc9c0c",
   "metadata": {},
   "outputs": [],
   "source": [
    "def clean_sql_query(query):\n",
    "    return query.replace(\"```sql\", \"\").replace(\"```\", \"\").replace(\"`\",\"\").strip()"
   ]
  },
  {
   "cell_type": "code",
   "execution_count": 9,
   "id": "98713dd2",
   "metadata": {},
   "outputs": [
    {
     "name": "stdout",
     "output_type": "stream",
     "text": [
      "{'query': 'How many t-shirts do we have left for adidas in XS size and white color?', 'result': \"```sql\\nSELECT SUM(stock_quantity) AS remaining_stock\\nFROM t_shirts\\nWHERE brand = 'Adidas' AND size = 'XS' AND color = 'White';\\n```\"}\n"
     ]
    }
   ],
   "source": [
    "response = chatbot.invoke(\"How many t-shirts do we have left for adidas in XS size and white color?\")\n",
    "print(response)"
   ]
  },
  {
   "cell_type": "code",
   "execution_count": 10,
   "id": "02ecc9b7",
   "metadata": {},
   "outputs": [
    {
     "name": "stdout",
     "output_type": "stream",
     "text": [
      "SELECT SUM(stock_quantity) AS remaining_stock\n",
      "FROM t_shirts\n",
      "WHERE brand = 'Adidas' AND size = 'XS' AND color = 'White';\n"
     ]
    }
   ],
   "source": [
    "out=clean_sql_query(response['result'])\n",
    "print(out)"
   ]
  },
  {
   "cell_type": "code",
   "execution_count": 11,
   "id": "b21c1df2",
   "metadata": {},
   "outputs": [],
   "source": [
    "class State(TypedDict):\n",
    "    messages:Annotated[list,add_messages]    "
   ]
  },
  {
   "cell_type": "code",
   "execution_count": 12,
   "id": "66f8fe26",
   "metadata": {},
   "outputs": [
    {
     "data": {
      "text/plain": [
       "<langgraph.graph.state.StateGraph at 0x7acacb7aa610>"
      ]
     },
     "execution_count": 12,
     "metadata": {},
     "output_type": "execute_result"
    }
   ],
   "source": [
    "from langchain.schema import AIMessage\n",
    "\n",
    "def query_generator(state: State):\n",
    "    # get message content wrapped in HumanMessage object\n",
    "    raw_input = state[\"messages\"][0].content\n",
    "\n",
    "    # print(state[\"messages\"])\n",
    "    # print(type(state[\"messages\"]))\n",
    "    # print(type(state[\"messages\"][0]))\n",
    "\n",
    "    result = chatbot.invoke({\"query\": raw_input})  # or use correct input key\n",
    "    \n",
    "    return {\"messages\": [AIMessage(content=result[\"result\"])]}\n",
    "    \n",
    "\n",
    "builder=StateGraph(State)  \n",
    "builder.add_node(\"query_generator\", query_generator)\n",
    "builder.add_edge(START, \"query_generator\")\n"
   ]
  },
  {
   "cell_type": "code",
   "execution_count": 13,
   "id": "a069584f",
   "metadata": {},
   "outputs": [
    {
     "data": {
      "image/png": "[encoded data removed]",
      "text/plain": [
       "<IPython.core.display.Image object>"
      ]
     },
     "metadata": {},
     "output_type": "display_data"
    }
   ],
   "source": [
    "graph=builder.compile()\n",
    "from IPython.display import Image,display\n",
    "display(Image(graph.get_graph().draw_mermaid_png()))"
   ]
  },
  {
   "cell_type": "code",
   "execution_count": 14,
   "id": "be9bfe5c",
   "metadata": {},
   "outputs": [],
   "source": [
    "out=graph.invoke({\"messages\":\"how many colors are available?\"})"
   ]
  },
  {
   "cell_type": "code",
   "execution_count": 15,
   "id": "318fd8ce",
   "metadata": {},
   "outputs": [
    {
     "name": "stdout",
     "output_type": "stream",
     "text": [
      "{'messages': [HumanMessage(content='how many colors are available?', additional_kwargs={}, response_metadata={}, id='12447646-95e9-4f3f-af12-0631f177a289'), AIMessage(content='```sql\\nSELECT COUNT(DISTINCT color) AS available_colors\\nFROM t_shirts\\nLIMIT 1;\\n```', additional_kwargs={}, response_metadata={}, id='68de640f-5e1f-4ca2-8698-eae06d72e161')]}\n"
     ]
    }
   ],
   "source": [
    "print(out)"
   ]
  },
  {
   "cell_type": "code",
   "execution_count": 16,
   "id": "30417935",
   "metadata": {},
   "outputs": [],
   "source": [
    "query=clean_sql_query(out['messages'][1].content)"
   ]
  },
  {
   "cell_type": "code",
   "execution_count": 17,
   "id": "27216413",
   "metadata": {},
   "outputs": [
    {
     "name": "stdout",
     "output_type": "stream",
     "text": [
      "SELECT COUNT(DISTINCT color) AS available_colors\n",
      "FROM t_shirts\n",
      "LIMIT 1;\n"
     ]
    }
   ],
   "source": [
    "print(query)"
   ]
  },
  {
   "cell_type": "code",
   "execution_count": 42,
   "id": "bbd15c15",
   "metadata": {},
   "outputs": [
    {
     "data": {
      "text/plain": [
       "\"SELECT SUM(a.total_amount * ((100-COALESCE(discounts.DISCOUNT_PERCENT,0))/100)) as total_revenue FROM(select SUM(PRICE*STOCK_QUANTITY) as total_amount, TSHIRT_ID FROM tshirt_inventory WHERE BRAND = 'LEVI' GROUP BY TSHIRT_ID) a LEFT join discounts ON a.TSHIRT_ID = discounts.TSHIRT_ID\""
      ]
     },
     "execution_count": 42,
     "metadata": {},
     "output_type": "execute_result"
    }
   ],
   "source": [
    "SQLQuery[2][10:]"
   ]
  },
  {
   "cell_type": "code",
   "execution_count": 8,
   "id": "4d8e2dd2",
   "metadata": {},
   "outputs": [
    {
     "name": "stdout",
     "output_type": "stream",
     "text": [
      "Connection successful!\n"
     ]
    }
   ],
   "source": [
    "import psycopg2\n",
    "from dotenv import load_dotenv\n",
    "import os\n",
    "\n",
    "# Load environment variables from .env\n",
    "load_dotenv()\n",
    "\n",
    "# Fetch variables\n",
    "USER = os.getenv(\"SUPABASE_user\")\n",
    "PASSWORD = os.getenv(\"SUPABASE_password\")\n",
    "HOST = os.getenv(\"SUPABASE_host\")\n",
    "PORT = os.getenv(\"SUPABASE_port\")\n",
    "DBNAME = os.getenv(\"SUPABASE_dbname\")\n",
    "\n",
    "# Connect to the database\n",
    "try:\n",
    "    connection = psycopg2.connect(\n",
    "        user=USER,\n",
    "        password=PASSWORD,\n",
    "        host=HOST,\n",
    "        port=PORT,\n",
    "        dbname=DBNAME\n",
    "    )\n",
    "    print(\"Connection successful!\")\n",
    "except Exception as e:\n",
    "    print(f\"Failed to connect: {e}\")"
   ]
  },
  {
   "cell_type": "code",
   "execution_count": 9,
   "id": "50f26e44",
   "metadata": {},
   "outputs": [
    {
     "name": "stdout",
     "output_type": "stream",
     "text": [
      "(Decimal('1318755'),)\n"
     ]
    }
   ],
   "source": [
    "# Create a cursor to execute SQL queries\n",
    "cursor = connection.cursor()\n",
    "# Example query\n",
    "cursor.execute(SQLQuery[2][10:])\n",
    "result = cursor.fetchone()\n",
    "print(result)"
   ]
  },
  {
   "cell_type": "code",
   "execution_count": 10,
   "id": "57a4bc03",
   "metadata": {},
   "outputs": [
    {
     "name": "stdout",
     "output_type": "stream",
     "text": [
      "Connection closed.\n"
     ]
    }
   ],
   "source": [
    "# Close the cursor and connection\n",
    "cursor.close()\n",
    "connection.close()\n",
    "print(\"Connection closed.\")"
   ]
  },
  {
   "cell_type": "code",
   "execution_count": 7,
   "id": "89a6a714",
   "metadata": {},
   "outputs": [
    {
     "name": "stdout",
     "output_type": "stream",
     "text": [
      "Successfully connected to the database!\n"
     ]
    }
   ],
   "source": [
    "db = SQLDatabase.from_uri(f\"postgresql://{USER}:{PASSWORD}@{HOST}:{PORT}/{DBNAME}\",sample_rows_in_table_info=5)\n",
    "print(\"Successfully connected to the database!\")"
   ]
  },
  {
   "cell_type": "code",
   "execution_count": 16,
   "id": "add36779",
   "metadata": {},
   "outputs": [],
   "source": [
    "embeddings = HuggingFaceEmbeddings(model_name=\"all-mpnet-base-v2\", model_kwargs={'device': 'cuda'})\n",
    "to_vectorize = [\" \".join(example.values()) for example in few_shots_list_of_dict]\n",
    "vectorstore = Chroma.from_texts(\n",
    "    to_vectorize, \n",
    "    embeddings, \n",
    "    metadatas=few_shots_list_of_dict, \n",
    "    ids=[str(i) for i in range(len(to_vectorize))],  # Ensure unique IDs\n",
    "    persist_directory=\"./chromadb\"\n",
    ")"
   ]
  },
  {
   "cell_type": "code",
   "execution_count": 17,
   "id": "4ab52292",
   "metadata": {},
   "outputs": [
    {
     "data": {
      "text/plain": [
       "{'ids': ['2'],\n",
       " 'embeddings': None,\n",
       " 'documents': [\"If we have to sell all the Levi’s T-shirts today with discounts applied. How much revenue  our store will generate post discounts? SELECT SUM(a.total_amount * ((100-COALESCE(discounts.DISCOUNT_PERCENT,0))/100)) as total_revenue \\n                      FROM(select SUM(PRICE*STOCK_QUANTITY) as total_amount, TSHIRT_ID \\n                      FROM tshirt_inventory WHERE BRAND = 'LEVI' GROUP BY TSHIRT_ID) a \\n                      LEFT join discounts ON a.TSHIRT_ID = discounts.TSHIRT_ID\"],\n",
       " 'uris': None,\n",
       " 'included': ['metadatas', 'documents'],\n",
       " 'data': None,\n",
       " 'metadatas': [{'Question': 'If we have to sell all the Levi’s T-shirts today with discounts applied. How much revenue  our store will generate post discounts?',\n",
       "   'SQLQuery': \"SELECT SUM(a.total_amount * ((100-COALESCE(discounts.DISCOUNT_PERCENT,0))/100)) as total_revenue \\n                      FROM(select SUM(PRICE*STOCK_QUANTITY) as total_amount, TSHIRT_ID \\n                      FROM tshirt_inventory WHERE BRAND = 'LEVI' GROUP BY TSHIRT_ID) a \\n                      LEFT join discounts ON a.TSHIRT_ID = discounts.TSHIRT_ID\"}]}"
      ]
     },
     "execution_count": 17,
     "metadata": {},
     "output_type": "execute_result"
    }
   ],
   "source": [
    "vectorstore.get(ids='2')"
   ]
  },
  {
   "cell_type": "code",
   "execution_count": null,
   "id": "8e776f85",
   "metadata": {},
   "outputs": [],
   "source": []
  }
 ],
 "metadata": {
  "kernelspec": {
   "display_name": "venv",
   "language": "python",
   "name": "python3"
  },
  "language_info": {
   "codemirror_mode": {
    "name": "ipython",
    "version": 3
   },
   "file_extension": ".py",
   "mimetype": "text/x-python",
   "name": "python",
   "nbconvert_exporter": "python",
   "pygments_lexer": "ipython3",
   "version": "3.11.11"
  }
 },
 "nbformat": 4,
 "nbformat_minor": 5
}
