{
 "cells": [
  {
   "cell_type": "code",
   "execution_count": 67,
   "metadata": {},
   "outputs": [],
   "source": [
    "# Install the required package\n",
    "#%pip install langchain\n",
    "\n",
    "from langchain.utilities import SQLDatabase\n",
    "from langchain_community.utilities import SQLDatabase\n",
    "from langchain_google_genai import ChatGoogleGenerativeAI\n",
    "from langchain_experimental.sql import SQLDatabaseChain\n",
    "from pydantic import BaseModel\n",
    "from langchain_core.callbacks import Callbacks"
   ]
  },
  {
   "cell_type": "code",
   "execution_count": 68,
   "metadata": {},
   "outputs": [],
   "source": [
    "#%pip install pymysql\n",
    "db_user = \"root\"\n",
    "db_password = \"justdoit\"\n",
    "db_host = \"localhost\"\n",
    "db_name = \"Project_tshirts\"\n",
    "\n",
    "class BaseCache(BaseModel):\n",
    "    pass\n",
    "\n",
    "SQLDatabaseChain.model_rebuild()  # Rebuild the model before usage\n",
    "db = SQLDatabase.from_uri(f\"mysql+pymysql://{db_user}:{db_password}@{db_host}/{db_name}\",sample_rows_in_table_info=5)"
   ]
  },
  {
   "cell_type": "code",
   "execution_count": 69,
   "metadata": {},
   "outputs": [
    {
     "name": "stdout",
     "output_type": "stream",
     "text": [
      "\n",
      "\n",
      "\u001b[1m> Entering new SQLDatabaseChain chain...\u001b[0m\n",
      "What is the lowest price of a t-shirt?\n",
      "SQLQuery:\u001b[32;1m\u001b[1;3mQuestion: What is the lowest price of a t-shirt?\n",
      "SQLQuery: SELECT MIN(`price`) FROM `t_shirts`;\u001b[0m\n",
      "SQLResult: \u001b[33;1m\u001b[1;3m[(11,)]\u001b[0m\n",
      "Answer:\u001b[32;1m\u001b[1;3mQuestion: What is the lowest price of a t-shirt?\n",
      "SQLQuery:SELECT MIN(`price`) FROM `t_shirts`;\u001b[0m\n",
      "\u001b[1m> Finished chain.\u001b[0m\n",
      "{'query': 'What is the lowest price of a t-shirt?', 'result': 'Question: What is the lowest price of a t-shirt?\\nSQLQuery:SELECT MIN(`price`) FROM `t_shirts`;'}\n"
     ]
    }
   ],
   "source": [
    "import os\n",
    "os.environ[\"GOOGLE_API_KEY\"]=os.getenv(\"GOOGLE_API_KEY\") \n",
    "\n",
    "from langchain_core.output_parsers import StrOutputParser\n",
    "\n",
    "llm = ChatGoogleGenerativeAI(model=\"gemini-1.5-pro\", temperature=0.1)\n",
    "#Higher temperature means more randomness, lower means more deterministic\n",
    "#Higher temperature consumes more tokens\n",
    "\n",
    "from langchain.chains import LLMChain\n",
    "from langchain.prompts import PromptTemplate\n",
    "\n",
    "# Define prompt template\n",
    "prompt = PromptTemplate.from_template(\"You are a helpful assistant. Answer this: {question}\")\n",
    "\n",
    "output_parser=StrOutputParser()\n",
    "\n",
    "#%pip install langchain_experimental\n",
    "\n",
    "# Create an SQL chain\n",
    "chatbot = SQLDatabaseChain.from_llm(llm, db, verbose=True)\n",
    "# Chat with the bot\n",
    "response = chatbot.invoke(\"What is the lowest price of a t-shirt?\")\n",
    "print(response)"
   ]
  },
  {
   "cell_type": "code",
   "execution_count": 66,
   "metadata": {},
   "outputs": [],
   "source": [
    "from langchain.embeddings import HuggingFaceEmbeddings\n",
    "from langchain.vectorstores import Chroma"
   ]
  },
  {
   "cell_type": "code",
   "execution_count": 61,
   "metadata": {},
   "outputs": [
    {
     "data": {
      "text/plain": [
       "'SQLQuery:SELECT MIN(`price`) FROM `t_shirts`;'"
      ]
     },
     "execution_count": 61,
     "metadata": {},
     "output_type": "execute_result"
    }
   ],
   "source": [
    "response['result'].split('\\n')[1]"
   ]
  }
 ],
 "metadata": {
  "kernelspec": {
   "display_name": "Python 3",
   "language": "python",
   "name": "python3"
  },
  "language_info": {
   "codemirror_mode": {
    "name": "ipython",
    "version": 3
   },
   "file_extension": ".py",
   "mimetype": "text/x-python",
   "name": "python",
   "nbconvert_exporter": "python",
   "pygments_lexer": "ipython3",
   "version": "3.12.4"
  }
 },
 "nbformat": 4,
 "nbformat_minor": 2
}
